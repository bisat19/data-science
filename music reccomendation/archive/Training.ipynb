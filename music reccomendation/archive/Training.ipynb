{
 "cells": [
  {
   "cell_type": "code",
   "execution_count": 52,
   "id": "e5fc1bd9-a788-4a05-8571-36ac3904ee75",
   "metadata": {},
   "outputs": [],
   "source": [
    "import pandas as pd"
   ]
  },
  {
   "cell_type": "code",
   "execution_count": 53,
   "id": "3353feca-d185-4a8c-86df-74c3f9521b02",
   "metadata": {},
   "outputs": [],
   "source": [
    "df = pd.read_csv(\"spotify_millsongdata.csv\")"
   ]
  },
  {
   "cell_type": "code",
   "execution_count": 54,
   "id": "daac50b3-7bf6-4450-9480-0de16e437d8a",
   "metadata": {},
   "outputs": [
    {
     "data": {
      "text/html": [
       "<div>\n",
       "<style scoped>\n",
       "    .dataframe tbody tr th:only-of-type {\n",
       "        vertical-align: middle;\n",
       "    }\n",
       "\n",
       "    .dataframe tbody tr th {\n",
       "        vertical-align: top;\n",
       "    }\n",
       "\n",
       "    .dataframe thead th {\n",
       "        text-align: right;\n",
       "    }\n",
       "</style>\n",
       "<table border=\"1\" class=\"dataframe\">\n",
       "  <thead>\n",
       "    <tr style=\"text-align: right;\">\n",
       "      <th></th>\n",
       "      <th>artist</th>\n",
       "      <th>song</th>\n",
       "      <th>link</th>\n",
       "      <th>text</th>\n",
       "    </tr>\n",
       "  </thead>\n",
       "  <tbody>\n",
       "    <tr>\n",
       "      <th>0</th>\n",
       "      <td>ABBA</td>\n",
       "      <td>Ahe's My Kind Of Girl</td>\n",
       "      <td>/a/abba/ahes+my+kind+of+girl_20598417.html</td>\n",
       "      <td>Look at her face, it's a wonderful face  \\r\\nA...</td>\n",
       "    </tr>\n",
       "    <tr>\n",
       "      <th>1</th>\n",
       "      <td>ABBA</td>\n",
       "      <td>Andante, Andante</td>\n",
       "      <td>/a/abba/andante+andante_20002708.html</td>\n",
       "      <td>Take it easy with me, please  \\r\\nTouch me gen...</td>\n",
       "    </tr>\n",
       "    <tr>\n",
       "      <th>2</th>\n",
       "      <td>ABBA</td>\n",
       "      <td>As Good As New</td>\n",
       "      <td>/a/abba/as+good+as+new_20003033.html</td>\n",
       "      <td>I'll never know why I had to go  \\r\\nWhy I had...</td>\n",
       "    </tr>\n",
       "  </tbody>\n",
       "</table>\n",
       "</div>"
      ],
      "text/plain": [
       "  artist                   song                                        link  \\\n",
       "0   ABBA  Ahe's My Kind Of Girl  /a/abba/ahes+my+kind+of+girl_20598417.html   \n",
       "1   ABBA       Andante, Andante       /a/abba/andante+andante_20002708.html   \n",
       "2   ABBA         As Good As New        /a/abba/as+good+as+new_20003033.html   \n",
       "\n",
       "                                                text  \n",
       "0  Look at her face, it's a wonderful face  \\r\\nA...  \n",
       "1  Take it easy with me, please  \\r\\nTouch me gen...  \n",
       "2  I'll never know why I had to go  \\r\\nWhy I had...  "
      ]
     },
     "execution_count": 54,
     "metadata": {},
     "output_type": "execute_result"
    }
   ],
   "source": [
    "df.head(3)"
   ]
  },
  {
   "cell_type": "code",
   "execution_count": 55,
   "id": "732acc4d-d6c0-496e-bb53-6e15e93b78ae",
   "metadata": {},
   "outputs": [
    {
     "data": {
      "text/html": [
       "<div>\n",
       "<style scoped>\n",
       "    .dataframe tbody tr th:only-of-type {\n",
       "        vertical-align: middle;\n",
       "    }\n",
       "\n",
       "    .dataframe tbody tr th {\n",
       "        vertical-align: top;\n",
       "    }\n",
       "\n",
       "    .dataframe thead th {\n",
       "        text-align: right;\n",
       "    }\n",
       "</style>\n",
       "<table border=\"1\" class=\"dataframe\">\n",
       "  <thead>\n",
       "    <tr style=\"text-align: right;\">\n",
       "      <th></th>\n",
       "      <th>artist</th>\n",
       "      <th>song</th>\n",
       "      <th>link</th>\n",
       "      <th>text</th>\n",
       "    </tr>\n",
       "  </thead>\n",
       "  <tbody>\n",
       "    <tr>\n",
       "      <th>57647</th>\n",
       "      <td>Zwan</td>\n",
       "      <td>Come With Me</td>\n",
       "      <td>/z/zwan/come+with+me_20148981.html</td>\n",
       "      <td>all you need  \\r\\nis something i'll believe  \\...</td>\n",
       "    </tr>\n",
       "    <tr>\n",
       "      <th>57648</th>\n",
       "      <td>Zwan</td>\n",
       "      <td>Desire</td>\n",
       "      <td>/z/zwan/desire_20148986.html</td>\n",
       "      <td>northern star  \\r\\nam i frightened  \\r\\nwhere ...</td>\n",
       "    </tr>\n",
       "    <tr>\n",
       "      <th>57649</th>\n",
       "      <td>Zwan</td>\n",
       "      <td>Heartsong</td>\n",
       "      <td>/z/zwan/heartsong_20148991.html</td>\n",
       "      <td>come in  \\r\\nmake yourself at home  \\r\\ni'm a ...</td>\n",
       "    </tr>\n",
       "  </tbody>\n",
       "</table>\n",
       "</div>"
      ],
      "text/plain": [
       "      artist          song                                link  \\\n",
       "57647   Zwan  Come With Me  /z/zwan/come+with+me_20148981.html   \n",
       "57648   Zwan        Desire        /z/zwan/desire_20148986.html   \n",
       "57649   Zwan     Heartsong     /z/zwan/heartsong_20148991.html   \n",
       "\n",
       "                                                    text  \n",
       "57647  all you need  \\r\\nis something i'll believe  \\...  \n",
       "57648  northern star  \\r\\nam i frightened  \\r\\nwhere ...  \n",
       "57649  come in  \\r\\nmake yourself at home  \\r\\ni'm a ...  "
      ]
     },
     "execution_count": 55,
     "metadata": {},
     "output_type": "execute_result"
    }
   ],
   "source": [
    "df.tail(3)"
   ]
  },
  {
   "cell_type": "code",
   "execution_count": 56,
   "id": "ee40ab63-ced1-49ab-9d03-af7f13626092",
   "metadata": {},
   "outputs": [
    {
     "data": {
      "text/plain": [
       "(57650, 4)"
      ]
     },
     "execution_count": 56,
     "metadata": {},
     "output_type": "execute_result"
    }
   ],
   "source": [
    "df.shape"
   ]
  },
  {
   "cell_type": "code",
   "execution_count": 57,
   "id": "6d329bc9-0fa4-47a3-8ddd-899ad8b3ae25",
   "metadata": {},
   "outputs": [
    {
     "data": {
      "text/plain": [
       "artist    0\n",
       "song      0\n",
       "link      0\n",
       "text      0\n",
       "dtype: int64"
      ]
     },
     "execution_count": 57,
     "metadata": {},
     "output_type": "execute_result"
    }
   ],
   "source": [
    "df.isnull().sum()"
   ]
  },
  {
   "cell_type": "code",
   "execution_count": 58,
   "id": "df24ec2b-6557-45f0-9dc4-d4d0151cfeea",
   "metadata": {},
   "outputs": [],
   "source": [
    "df = df.sample(5000).drop('link',axis=1).reset_index(drop=True)"
   ]
  },
  {
   "cell_type": "code",
   "execution_count": 59,
   "id": "beb055b0-760e-49bc-9806-96cd79f1e59c",
   "metadata": {},
   "outputs": [
    {
     "data": {
      "text/html": [
       "<div>\n",
       "<style scoped>\n",
       "    .dataframe tbody tr th:only-of-type {\n",
       "        vertical-align: middle;\n",
       "    }\n",
       "\n",
       "    .dataframe tbody tr th {\n",
       "        vertical-align: top;\n",
       "    }\n",
       "\n",
       "    .dataframe thead th {\n",
       "        text-align: right;\n",
       "    }\n",
       "</style>\n",
       "<table border=\"1\" class=\"dataframe\">\n",
       "  <thead>\n",
       "    <tr style=\"text-align: right;\">\n",
       "      <th></th>\n",
       "      <th>artist</th>\n",
       "      <th>song</th>\n",
       "      <th>text</th>\n",
       "    </tr>\n",
       "  </thead>\n",
       "  <tbody>\n",
       "    <tr>\n",
       "      <th>0</th>\n",
       "      <td>Pitbull</td>\n",
       "      <td>Pause</td>\n",
       "      <td>Mr. Worldwide,  \\r\\nMami no you can't come bac...</td>\n",
       "    </tr>\n",
       "    <tr>\n",
       "      <th>1</th>\n",
       "      <td>Bing Crosby</td>\n",
       "      <td>Getting To Know You</td>\n",
       "      <td>Gettin' to know you,  \\r\\nGettin' to know all ...</td>\n",
       "    </tr>\n",
       "    <tr>\n",
       "      <th>2</th>\n",
       "      <td>Snoop Dogg</td>\n",
       "      <td>Change Gone Come</td>\n",
       "      <td>When Doggy Dogg comes  \\r\\nYou better answer [...</td>\n",
       "    </tr>\n",
       "  </tbody>\n",
       "</table>\n",
       "</div>"
      ],
      "text/plain": [
       "        artist                 song  \\\n",
       "0      Pitbull                Pause   \n",
       "1  Bing Crosby  Getting To Know You   \n",
       "2   Snoop Dogg     Change Gone Come   \n",
       "\n",
       "                                                text  \n",
       "0  Mr. Worldwide,  \\r\\nMami no you can't come bac...  \n",
       "1  Gettin' to know you,  \\r\\nGettin' to know all ...  \n",
       "2  When Doggy Dogg comes  \\r\\nYou better answer [...  "
      ]
     },
     "execution_count": 59,
     "metadata": {},
     "output_type": "execute_result"
    }
   ],
   "source": [
    "df.head(3)"
   ]
  },
  {
   "cell_type": "code",
   "execution_count": 60,
   "id": "a91b80a8-fe60-4f04-9983-492781cc9199",
   "metadata": {},
   "outputs": [
    {
     "data": {
      "text/plain": [
       "\"Mr. Worldwide,  \\r\\nMami no you can't come back  \\r\\nMami no you can't come back  \\r\\n'Cause you look so right  \\r\\n'Cause you look so right  \\r\\n'Cause you look so right  \\r\\n'Cause you look so right  \\r\\n  \\r\\nNow don't stop, drop, pause  \\r\\nNow don't stop, drop, pause  \\r\\n  \\r\\nOh, look at that girl, she's like ah  \\r\\nLook at that girl, she's like oh  \\r\\nLook at that girl, she's like ah  \\r\\nLook at that girl, she's like  \\r\\n  \\r\\nLook, I got what you need to get you hooked  \\r\\nI steal all your heart I'm a crook  \\r\\nOn Friday night, I'm sorry, I'm booked  \\r\\nBrooke, Maria y la amiga de ella  \\r\\nTan rica y en la cama no juegan  \\r\\nExplotan y dicen  \\r\\nPause  \\r\\n  \\r\\nNow don't stop, drop, pause  \\r\\nNow don't stop, drop, pause  \\r\\n  \\r\\nOh, look at that girl, she's like ah  \\r\\nLook at that girl, she's like oh  \\r\\nLook at that girl, she's like ah  \\r\\nLook at that girl, she's like  \\r\\n  \\r\\nMamita would you like to play?  \\r\\nWe love to see, would you stay  \\r\\nAnd if you say OK, we will play night and day  \\r\\nI'm such a dir-dir-dirty dawg  \\r\\nMy teeth will unsnap your bra  \\r\\nBut for now baby just pause  \\r\\n  \\r\\nNow don't stop, drop, pause  \\r\\nNow don't stop, drop, pause  \\r\\n  \\r\\nOh, look at that girl, she's like ah  \\r\\nLook at that girl, she's like oh  \\r\\nLook at that girl, she's like ah  \\r\\nLook at that girl, she's like  \\r\\n  \\r\\nMami over there sometime  \\r\\nMami over there sometime  \\r\\nShe got what I like, what I like  \\r\\nWhat I like, what I like  \\r\\nMami over there sometime  \\r\\nMami over there sometime  \\r\\nShe got what I like, what I like  \\r\\nWhat I like, what I like  \\r\\nMami over there sometime  \\r\\nMami over there sometime  \\r\\nShe got what I like, what I like, pause  \\r\\n  \\r\\nNow don't stop, drop, pause  \\r\\nNow don't stop, drop, pause  \\r\\n  \\r\\nOh, look at that girl, she's like ah  \\r\\nLook at that girl, she's like oh  \\r\\nLook at that girl, she's like ah  \\r\\nLook at that girl, she's like oh  \\r\\nLook at that girl, she's like ah  \\r\\nLook at that girl, she's like oh  \\r\\nLook at that girl, she's like ah  \\r\\nLook at that girl, she's like  \\r\\n  \\r\\nPause\\r\\n\\r\\n\""
      ]
     },
     "execution_count": 60,
     "metadata": {},
     "output_type": "execute_result"
    }
   ],
   "source": [
    "df['text'][0]"
   ]
  },
  {
   "cell_type": "code",
   "execution_count": 17,
   "id": "c727b0a7-c5fd-41c5-b496-fcbe18ebc6b3",
   "metadata": {},
   "outputs": [],
   "source": [
    "#df = df.sample(5000)"
   ]
  },
  {
   "cell_type": "code",
   "execution_count": 61,
   "id": "710e69fe-5af4-4ef2-adeb-af7a38ac8083",
   "metadata": {},
   "outputs": [
    {
     "data": {
      "text/plain": [
       "(5000, 3)"
      ]
     },
     "execution_count": 61,
     "metadata": {},
     "output_type": "execute_result"
    }
   ],
   "source": [
    "df.shape"
   ]
  },
  {
   "cell_type": "markdown",
   "id": "7a4b165c-9c5d-4ea7-9721-f707b8ec3e7c",
   "metadata": {},
   "source": [
    "Text Cleaning or Text Processing"
   ]
  },
  {
   "cell_type": "code",
   "execution_count": 62,
   "id": "615123e4-fd4b-4965-86dc-51ed841664ef",
   "metadata": {},
   "outputs": [],
   "source": [
    "df['text'] = df['text'].str.lower().replace(r'^\\w\\s',' ').replace(r'\\n',' ',regex = True)"
   ]
  },
  {
   "cell_type": "code",
   "execution_count": 63,
   "id": "8bc964d3-cfff-41f9-9b85-ef3609bbb881",
   "metadata": {},
   "outputs": [
    {
     "data": {
      "text/html": [
       "<div>\n",
       "<style scoped>\n",
       "    .dataframe tbody tr th:only-of-type {\n",
       "        vertical-align: middle;\n",
       "    }\n",
       "\n",
       "    .dataframe tbody tr th {\n",
       "        vertical-align: top;\n",
       "    }\n",
       "\n",
       "    .dataframe thead th {\n",
       "        text-align: right;\n",
       "    }\n",
       "</style>\n",
       "<table border=\"1\" class=\"dataframe\">\n",
       "  <thead>\n",
       "    <tr style=\"text-align: right;\">\n",
       "      <th></th>\n",
       "      <th>artist</th>\n",
       "      <th>song</th>\n",
       "      <th>text</th>\n",
       "    </tr>\n",
       "  </thead>\n",
       "  <tbody>\n",
       "    <tr>\n",
       "      <th>0</th>\n",
       "      <td>Pitbull</td>\n",
       "      <td>Pause</td>\n",
       "      <td>mr. worldwide,  \\r mami no you can't come back...</td>\n",
       "    </tr>\n",
       "    <tr>\n",
       "      <th>1</th>\n",
       "      <td>Bing Crosby</td>\n",
       "      <td>Getting To Know You</td>\n",
       "      <td>gettin' to know you,  \\r gettin' to know all a...</td>\n",
       "    </tr>\n",
       "    <tr>\n",
       "      <th>2</th>\n",
       "      <td>Snoop Dogg</td>\n",
       "      <td>Change Gone Come</td>\n",
       "      <td>when doggy dogg comes  \\r you better answer [r...</td>\n",
       "    </tr>\n",
       "    <tr>\n",
       "      <th>3</th>\n",
       "      <td>King Diamond</td>\n",
       "      <td>Life After Death</td>\n",
       "      <td>friday night  \\r   \\r four shadows heading for...</td>\n",
       "    </tr>\n",
       "    <tr>\n",
       "      <th>4</th>\n",
       "      <td>Verve</td>\n",
       "      <td>Endless Life</td>\n",
       "      <td>drink the water to ease my pain  \\r nights lik...</td>\n",
       "    </tr>\n",
       "    <tr>\n",
       "      <th>...</th>\n",
       "      <td>...</td>\n",
       "      <td>...</td>\n",
       "      <td>...</td>\n",
       "    </tr>\n",
       "    <tr>\n",
       "      <th>4995</th>\n",
       "      <td>Koes Plus</td>\n",
       "      <td>Layang-Layang</td>\n",
       "      <td>layang layang yang ku sayang  \\r layang layang...</td>\n",
       "    </tr>\n",
       "    <tr>\n",
       "      <th>4996</th>\n",
       "      <td>Uriah Heep</td>\n",
       "      <td>Cross That Line</td>\n",
       "      <td>what do you say  \\r to a talk over dinner  \\r ...</td>\n",
       "    </tr>\n",
       "    <tr>\n",
       "      <th>4997</th>\n",
       "      <td>Marillion</td>\n",
       "      <td>Cover My Eyes</td>\n",
       "      <td>cover my eyes  \\r the light falls on her face ...</td>\n",
       "    </tr>\n",
       "    <tr>\n",
       "      <th>4998</th>\n",
       "      <td>Bon Jovi</td>\n",
       "      <td>Never Say Die</td>\n",
       "      <td>as we stood there older than men  \\r and young...</td>\n",
       "    </tr>\n",
       "    <tr>\n",
       "      <th>4999</th>\n",
       "      <td>Genesis</td>\n",
       "      <td>In Limbo</td>\n",
       "      <td>please take me away  \\r far from this place  \\...</td>\n",
       "    </tr>\n",
       "  </tbody>\n",
       "</table>\n",
       "<p>5000 rows × 3 columns</p>\n",
       "</div>"
      ],
      "text/plain": [
       "            artist                 song  \\\n",
       "0          Pitbull                Pause   \n",
       "1      Bing Crosby  Getting To Know You   \n",
       "2       Snoop Dogg     Change Gone Come   \n",
       "3     King Diamond     Life After Death   \n",
       "4            Verve         Endless Life   \n",
       "...            ...                  ...   \n",
       "4995     Koes Plus        Layang-Layang   \n",
       "4996    Uriah Heep      Cross That Line   \n",
       "4997     Marillion        Cover My Eyes   \n",
       "4998      Bon Jovi        Never Say Die   \n",
       "4999       Genesis             In Limbo   \n",
       "\n",
       "                                                   text  \n",
       "0     mr. worldwide,  \\r mami no you can't come back...  \n",
       "1     gettin' to know you,  \\r gettin' to know all a...  \n",
       "2     when doggy dogg comes  \\r you better answer [r...  \n",
       "3     friday night  \\r   \\r four shadows heading for...  \n",
       "4     drink the water to ease my pain  \\r nights lik...  \n",
       "...                                                 ...  \n",
       "4995  layang layang yang ku sayang  \\r layang layang...  \n",
       "4996  what do you say  \\r to a talk over dinner  \\r ...  \n",
       "4997  cover my eyes  \\r the light falls on her face ...  \n",
       "4998  as we stood there older than men  \\r and young...  \n",
       "4999  please take me away  \\r far from this place  \\...  \n",
       "\n",
       "[5000 rows x 3 columns]"
      ]
     },
     "execution_count": 63,
     "metadata": {},
     "output_type": "execute_result"
    }
   ],
   "source": [
    "df"
   ]
  },
  {
   "cell_type": "code",
   "execution_count": 64,
   "id": "1bff4fd9-c28f-48fb-831e-cd8131d9ea39",
   "metadata": {},
   "outputs": [],
   "source": [
    "import nltk\n",
    "from nltk.stem.porter import PorterStemmer"
   ]
  },
  {
   "cell_type": "code",
   "execution_count": 65,
   "id": "692f4584-8f92-4632-85f0-2b0cc7338993",
   "metadata": {},
   "outputs": [
    {
     "name": "stderr",
     "output_type": "stream",
     "text": [
      "[nltk_data] Downloading package punkt to\n",
      "[nltk_data]     C:\\Users\\ABISATYA\\AppData\\Roaming\\nltk_data...\n",
      "[nltk_data]   Package punkt is already up-to-date!\n"
     ]
    },
    {
     "data": {
      "text/plain": [
       "True"
      ]
     },
     "execution_count": 65,
     "metadata": {},
     "output_type": "execute_result"
    }
   ],
   "source": [
    "nltk.download('punkt')"
   ]
  },
  {
   "cell_type": "code",
   "execution_count": 66,
   "id": "77f519a1-700f-4c99-b136-592a9271be9b",
   "metadata": {},
   "outputs": [],
   "source": [
    "stemmer = PorterStemmer()"
   ]
  },
  {
   "cell_type": "code",
   "execution_count": 67,
   "id": "46cad61f-7c40-4c1a-993f-7f05710abf96",
   "metadata": {},
   "outputs": [],
   "source": [
    "def token(txt):\n",
    "    token = nltk.word_tokenize(txt)\n",
    "    a = [stemmer.stem(w) for w in token]\n",
    "    return \" \".join(a)"
   ]
  },
  {
   "cell_type": "code",
   "execution_count": 68,
   "id": "ff006b0e-1638-4521-aacd-2b42419b1cb0",
   "metadata": {},
   "outputs": [
    {
     "data": {
      "text/plain": [
       "'you are beauti , beauti'"
      ]
     },
     "execution_count": 68,
     "metadata": {},
     "output_type": "execute_result"
    }
   ],
   "source": [
    "token(\"you are beautiful, beauty\")"
   ]
  },
  {
   "cell_type": "code",
   "execution_count": 69,
   "id": "8bacc6f9-513e-4eb1-971b-4384136cd12d",
   "metadata": {},
   "outputs": [
    {
     "data": {
      "text/plain": [
       "'we are eat and eaten'"
      ]
     },
     "execution_count": 69,
     "metadata": {},
     "output_type": "execute_result"
    }
   ],
   "source": [
    "token(\"we are eating and eaten\")"
   ]
  },
  {
   "cell_type": "code",
   "execution_count": 70,
   "id": "2f9258d5-01e0-4eee-9823-330d3fecddb1",
   "metadata": {},
   "outputs": [
    {
     "data": {
      "text/plain": [
       "0       mr. worldwid , mami no you ca n't come back ma...\n",
       "1       gettin ' to know you , gettin ' to know all ab...\n",
       "2       when doggi dogg come you better answer [ repea...\n",
       "3       friday night four shadow head for the dark fou...\n",
       "4       drink the water to eas my pain night like thes...\n",
       "                              ...                        \n",
       "4995    layang layang yang ku sayang layang layang yan...\n",
       "4996    what do you say to a talk over dinner though w...\n",
       "4997    cover my eye the light fall on her face danger...\n",
       "4998    as we stood there older than men and younger t...\n",
       "4999    pleas take me away far from thi place leav me ...\n",
       "Name: text, Length: 5000, dtype: object"
      ]
     },
     "execution_count": 70,
     "metadata": {},
     "output_type": "execute_result"
    }
   ],
   "source": [
    "df['text'].apply(lambda x: token(x))"
   ]
  },
  {
   "cell_type": "code",
   "execution_count": 71,
   "id": "149d4d23-2399-48c1-b5e3-6c83d94c06d9",
   "metadata": {},
   "outputs": [],
   "source": [
    "from sklearn.feature_extraction.text import TfidfVectorizer\n",
    "from sklearn.metrics.pairwise import cosine_similarity"
   ]
  },
  {
   "cell_type": "code",
   "execution_count": 72,
   "id": "8c7e0776-d983-4437-8db2-db8d39a4889c",
   "metadata": {},
   "outputs": [],
   "source": [
    "tfid = TfidfVectorizer(analyzer='word', stop_words='english')"
   ]
  },
  {
   "cell_type": "code",
   "execution_count": 73,
   "id": "68c59144-2afc-4cfb-9886-64b5f2c7aaf2",
   "metadata": {},
   "outputs": [],
   "source": [
    "matrix = tfid.fit_transform(df['text'])"
   ]
  },
  {
   "cell_type": "code",
   "execution_count": 74,
   "id": "67c9c898-ec85-4232-b221-e724d560cfff",
   "metadata": {},
   "outputs": [],
   "source": [
    "similar = cosine_similarity(matrix)"
   ]
  },
  {
   "cell_type": "code",
   "execution_count": 75,
   "id": "cc0708da-0f4a-41b4-ba83-1fcc8c0f6c9e",
   "metadata": {},
   "outputs": [
    {
     "data": {
      "text/plain": [
       "array([1.        , 0.02130659, 0.0382531 , ..., 0.22303006, 0.08293173,\n",
       "       0.00346016])"
      ]
     },
     "execution_count": 75,
     "metadata": {},
     "output_type": "execute_result"
    }
   ],
   "source": [
    "similar[0]"
   ]
  },
  {
   "cell_type": "code",
   "execution_count": 77,
   "id": "4704d4b1-ac9f-43b7-80d4-92fb4c174ab8",
   "metadata": {},
   "outputs": [
    {
     "data": {
      "text/plain": [
       "0"
      ]
     },
     "execution_count": 77,
     "metadata": {},
     "output_type": "execute_result"
    }
   ],
   "source": [
    "df[df['song'] == 'Pause'].index[0]"
   ]
  },
  {
   "cell_type": "markdown",
   "id": "4ef4cb57-253b-47e8-be25-81e8b2874efb",
   "metadata": {},
   "source": [
    "Recommender Func"
   ]
  },
  {
   "cell_type": "code",
   "execution_count": 81,
   "id": "4819459a-c2b4-401c-82f1-1b3354563e6e",
   "metadata": {},
   "outputs": [],
   "source": [
    "def recommender(song_name):\n",
    "    idx = df[df['song'] == song_name].index[0]\n",
    "    dis = sorted(list(enumerate(similar[idx])), reverse=True, key = lambda x : x[1])\n",
    "    song = []\n",
    "    for s_id in dis[1:6]:\n",
    "        song.append(df.iloc[s_id[0]].song)\n",
    "    return song"
   ]
  },
  {
   "cell_type": "code",
   "execution_count": 82,
   "id": "c711381f-ef20-4243-a1f3-eda201bd6f1a",
   "metadata": {},
   "outputs": [
    {
     "data": {
      "text/plain": [
       "['Lookout', 'Look At Me Now', '3-D', 'Look Around Me', 'Get Up And Go']"
      ]
     },
     "execution_count": 82,
     "metadata": {},
     "output_type": "execute_result"
    }
   ],
   "source": [
    "recommender(\"Pause\")"
   ]
  },
  {
   "cell_type": "code",
   "execution_count": 83,
   "id": "72c97215-92d6-46b0-98b4-7742d11dde4f",
   "metadata": {},
   "outputs": [],
   "source": [
    "import pickle"
   ]
  },
  {
   "cell_type": "code",
   "execution_count": 84,
   "id": "cdd52615-2a37-47ec-af51-0f324316feb6",
   "metadata": {},
   "outputs": [],
   "source": [
    "pickle.dump(similar, open(\"similarity\",\"wb\"))"
   ]
  },
  {
   "cell_type": "code",
   "execution_count": 85,
   "id": "10cb7e3d-22cd-4d42-b0fa-f93845c19da0",
   "metadata": {},
   "outputs": [],
   "source": [
    "pickle.dump(df, open(\"df\",\"wb\"))"
   ]
  },
  {
   "cell_type": "code",
   "execution_count": null,
   "id": "df7e9219-3b01-4593-aecd-df47b42dbd98",
   "metadata": {},
   "outputs": [],
   "source": []
  }
 ],
 "metadata": {
  "kernelspec": {
   "display_name": "Python 3 (ipykernel)",
   "language": "python",
   "name": "python3"
  },
  "language_info": {
   "codemirror_mode": {
    "name": "ipython",
    "version": 3
   },
   "file_extension": ".py",
   "mimetype": "text/x-python",
   "name": "python",
   "nbconvert_exporter": "python",
   "pygments_lexer": "ipython3",
   "version": "3.12.4"
  }
 },
 "nbformat": 4,
 "nbformat_minor": 5
}
